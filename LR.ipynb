{
 "cells": [
  {
   "cell_type": "code",
   "execution_count": 16,
   "metadata": {
    "collapsed": true
   },
   "outputs": [],
   "source": [
    "import pandas as pd\n",
    "import statsmodels.api as sm\n",
    "import pylab as pl\n",
    "import numpy as np\n",
    "import matplotlib.pyplot as plt"
   ]
  },
  {
   "cell_type": "code",
   "execution_count": 2,
   "metadata": {
    "collapsed": true
   },
   "outputs": [],
   "source": [
    "df = pd.read_csv(\"http://www.ats.ucla.edu/stat/data/binary.csv\")"
   ]
  },
  {
   "cell_type": "code",
   "execution_count": 3,
   "metadata": {
    "collapsed": false
   },
   "outputs": [
    {
     "name": "stdout",
     "output_type": "stream",
     "text": [
      "   admit  gre   gpa  rank\n",
      "0      0  380  3.61     3\n",
      "1      1  660  3.67     3\n",
      "2      1  800  4.00     1\n",
      "3      1  640  3.19     4\n",
      "4      0  520  2.93     4\n"
     ]
    }
   ],
   "source": [
    "print df.head()"
   ]
  },
  {
   "cell_type": "code",
   "execution_count": 5,
   "metadata": {
    "collapsed": false
   },
   "outputs": [
    {
     "name": "stdout",
     "output_type": "stream",
     "text": [
      "Index([u'admit', u'gre', u'gpa', u'prestige'], dtype='object')\n"
     ]
    }
   ],
   "source": [
    "df.columns = [\"admit\",\"gre\",\"gpa\",\"prestige\"]\n",
    "print df.columns"
   ]
  },
  {
   "cell_type": "code",
   "execution_count": 7,
   "metadata": {
    "collapsed": false
   },
   "outputs": [
    {
     "name": "stdout",
     "output_type": "stream",
     "text": [
      "            admit         gre         gpa   prestige\n",
      "count  400.000000  400.000000  400.000000  400.00000\n",
      "mean     0.317500  587.700000    3.389900    2.48500\n",
      "std      0.466087  115.516536    0.380567    0.94446\n",
      "min      0.000000  220.000000    2.260000    1.00000\n",
      "25%      0.000000  520.000000    3.130000    2.00000\n",
      "50%      0.000000  580.000000    3.395000    2.00000\n",
      "75%      1.000000  660.000000    3.670000    3.00000\n",
      "max      1.000000  800.000000    4.000000    4.00000\n"
     ]
    }
   ],
   "source": [
    "print df.describe()"
   ]
  },
  {
   "cell_type": "code",
   "execution_count": 8,
   "metadata": {
    "collapsed": false
   },
   "outputs": [
    {
     "name": "stdout",
     "output_type": "stream",
     "text": [
      "admit         0.466087\n",
      "gre         115.516536\n",
      "gpa           0.380567\n",
      "prestige      0.944460\n",
      "dtype: float64\n"
     ]
    }
   ],
   "source": [
    "print df.std()"
   ]
  },
  {
   "cell_type": "code",
   "execution_count": 13,
   "metadata": {
    "collapsed": false
   },
   "outputs": [
    {
     "name": "stdout",
     "output_type": "stream",
     "text": [
      "prestige   1   2   3   4\n",
      "admit                   \n",
      "0         28  97  93  55\n",
      "1         33  54  28  12\n"
     ]
    }
   ],
   "source": [
    "print pd.crosstab(df[\"admit\"], df[\"prestige\"], rownames =['admit'])"
   ]
  },
  {
   "cell_type": "code",
   "execution_count": 19,
   "metadata": {
    "collapsed": false
   },
   "outputs": [],
   "source": [
    "df.hist()\n",
    "plt.show()"
   ]
  },
  {
   "cell_type": "code",
   "execution_count": 21,
   "metadata": {
    "collapsed": false
   },
   "outputs": [
    {
     "name": "stdout",
     "output_type": "stream",
     "text": [
      "   pe_1  pe_2  pe_3  pe_4\n",
      "0     0     0     1     0\n",
      "1     0     0     1     0\n",
      "2     1     0     0     0\n",
      "3     0     0     0     1\n",
      "4     0     0     0     1\n"
     ]
    }
   ],
   "source": [
    "#dummyfy rank\n",
    "dummy_ranks = pd.get_dummies(df[\"prestige\"], prefix= 'pe')\n",
    "print dummy_ranks.head()"
   ]
  },
  {
   "cell_type": "code",
   "execution_count": 28,
   "metadata": {
    "collapsed": false
   },
   "outputs": [
    {
     "name": "stdout",
     "output_type": "stream",
     "text": [
      "     admit  gre   gpa  pe_1  pe_2  pe_3  pe_4\n",
      "0        0  380  3.61     0     0     1     0\n",
      "1        1  660  3.67     0     0     1     0\n",
      "2        1  800  4.00     1     0     0     0\n",
      "3        1  640  3.19     0     0     0     1\n",
      "4        0  520  2.93     0     0     0     1\n",
      "5        1  760  3.00     0     1     0     0\n",
      "6        1  560  2.98     1     0     0     0\n",
      "7        0  400  3.08     0     1     0     0\n",
      "8        1  540  3.39     0     0     1     0\n",
      "9        0  700  3.92     0     1     0     0\n",
      "10       0  800  4.00     0     0     0     1\n",
      "11       0  440  3.22     1     0     0     0\n",
      "12       1  760  4.00     1     0     0     0\n",
      "13       0  700  3.08     0     1     0     0\n",
      "14       1  700  4.00     1     0     0     0\n",
      "15       0  480  3.44     0     0     1     0\n",
      "16       0  780  3.87     0     0     0     1\n",
      "17       0  360  2.56     0     0     1     0\n",
      "18       0  800  3.75     0     1     0     0\n",
      "19       1  540  3.81     1     0     0     0\n",
      "20       0  500  3.17     0     0     1     0\n",
      "21       1  660  3.63     0     1     0     0\n",
      "22       0  600  2.82     0     0     0     1\n",
      "23       0  680  3.19     0     0     0     1\n",
      "24       1  760  3.35     0     1     0     0\n",
      "25       1  800  3.66     1     0     0     0\n",
      "26       1  620  3.61     1     0     0     0\n",
      "27       1  520  3.74     0     0     0     1\n",
      "28       1  780  3.22     0     1     0     0\n",
      "29       0  520  3.29     1     0     0     0\n",
      "..     ...  ...   ...   ...   ...   ...   ...\n",
      "370      1  540  3.77     0     1     0     0\n",
      "371      1  680  3.76     0     0     1     0\n",
      "372      1  680  2.42     1     0     0     0\n",
      "373      1  620  3.37     1     0     0     0\n",
      "374      0  560  3.78     0     1     0     0\n",
      "375      0  560  3.49     0     0     0     1\n",
      "376      0  620  3.63     0     1     0     0\n",
      "377      1  800  4.00     0     1     0     0\n",
      "378      0  640  3.12     0     0     1     0\n",
      "379      0  540  2.70     0     1     0     0\n",
      "380      0  700  3.65     0     1     0     0\n",
      "381      1  540  3.49     0     1     0     0\n",
      "382      0  540  3.51     0     1     0     0\n",
      "383      0  660  4.00     1     0     0     0\n",
      "384      1  480  2.62     0     1     0     0\n",
      "385      0  420  3.02     1     0     0     0\n",
      "386      1  740  3.86     0     1     0     0\n",
      "387      0  580  3.36     0     1     0     0\n",
      "388      0  640  3.17     0     1     0     0\n",
      "389      0  640  3.51     0     1     0     0\n",
      "390      1  800  3.05     0     1     0     0\n",
      "391      1  660  3.88     0     1     0     0\n",
      "392      1  600  3.38     0     0     1     0\n",
      "393      1  620  3.75     0     1     0     0\n",
      "394      1  460  3.99     0     0     1     0\n",
      "395      0  620  4.00     0     1     0     0\n",
      "396      0  560  3.04     0     0     1     0\n",
      "397      0  460  2.63     0     1     0     0\n",
      "398      0  700  3.65     0     1     0     0\n",
      "399      0  600  3.89     0     0     1     0\n",
      "\n",
      "[400 rows x 7 columns]\n"
     ]
    }
   ],
   "source": [
    "cols_to_keep = [\"admit\",\"gre\",\"gpa\"]\n",
    "data = df[cols_to_keep].join(dummy_ranks)\n",
    "print data"
   ]
  },
  {
   "cell_type": "code",
   "execution_count": 30,
   "metadata": {
    "collapsed": false
   },
   "outputs": [
    {
     "data": {
      "text/html": [
       "<div>\n",
       "<table border=\"1\" class=\"dataframe\">\n",
       "  <thead>\n",
       "    <tr style=\"text-align: right;\">\n",
       "      <th></th>\n",
       "      <th>admit</th>\n",
       "      <th>gre</th>\n",
       "      <th>gpa</th>\n",
       "      <th>pe_1</th>\n",
       "      <th>pe_2</th>\n",
       "      <th>pe_3</th>\n",
       "      <th>pe_4</th>\n",
       "      <th>intercept</th>\n",
       "    </tr>\n",
       "  </thead>\n",
       "  <tbody>\n",
       "    <tr>\n",
       "      <th>0</th>\n",
       "      <td>0</td>\n",
       "      <td>380</td>\n",
       "      <td>3.61</td>\n",
       "      <td>0</td>\n",
       "      <td>0</td>\n",
       "      <td>1</td>\n",
       "      <td>0</td>\n",
       "      <td>1</td>\n",
       "    </tr>\n",
       "    <tr>\n",
       "      <th>1</th>\n",
       "      <td>1</td>\n",
       "      <td>660</td>\n",
       "      <td>3.67</td>\n",
       "      <td>0</td>\n",
       "      <td>0</td>\n",
       "      <td>1</td>\n",
       "      <td>0</td>\n",
       "      <td>1</td>\n",
       "    </tr>\n",
       "    <tr>\n",
       "      <th>2</th>\n",
       "      <td>1</td>\n",
       "      <td>800</td>\n",
       "      <td>4.00</td>\n",
       "      <td>1</td>\n",
       "      <td>0</td>\n",
       "      <td>0</td>\n",
       "      <td>0</td>\n",
       "      <td>1</td>\n",
       "    </tr>\n",
       "    <tr>\n",
       "      <th>3</th>\n",
       "      <td>1</td>\n",
       "      <td>640</td>\n",
       "      <td>3.19</td>\n",
       "      <td>0</td>\n",
       "      <td>0</td>\n",
       "      <td>0</td>\n",
       "      <td>1</td>\n",
       "      <td>1</td>\n",
       "    </tr>\n",
       "    <tr>\n",
       "      <th>4</th>\n",
       "      <td>0</td>\n",
       "      <td>520</td>\n",
       "      <td>2.93</td>\n",
       "      <td>0</td>\n",
       "      <td>0</td>\n",
       "      <td>0</td>\n",
       "      <td>1</td>\n",
       "      <td>1</td>\n",
       "    </tr>\n",
       "  </tbody>\n",
       "</table>\n",
       "</div>"
      ],
      "text/plain": [
       "   admit  gre   gpa  pe_1  pe_2  pe_3  pe_4  intercept\n",
       "0      0  380  3.61     0     0     1     0          1\n",
       "1      1  660  3.67     0     0     1     0          1\n",
       "2      1  800  4.00     1     0     0     0          1\n",
       "3      1  640  3.19     0     0     0     1          1\n",
       "4      0  520  2.93     0     0     0     1          1"
      ]
     },
     "execution_count": 30,
     "metadata": {},
     "output_type": "execute_result"
    }
   ],
   "source": [
    "# manually add the intercept\n",
    "data['intercept'] = 1.0\n",
    "data.head()"
   ]
  },
  {
   "cell_type": "code",
   "execution_count": null,
   "metadata": {
    "collapsed": true
   },
   "outputs": [],
   "source": []
  }
 ],
 "metadata": {
  "kernelspec": {
   "display_name": "Python 2",
   "language": "python",
   "name": "python2"
  },
  "language_info": {
   "codemirror_mode": {
    "name": "ipython",
    "version": 2
   },
   "file_extension": ".py",
   "mimetype": "text/x-python",
   "name": "python",
   "nbconvert_exporter": "python",
   "pygments_lexer": "ipython2",
   "version": "2.7.11"
  }
 },
 "nbformat": 4,
 "nbformat_minor": 0
}
